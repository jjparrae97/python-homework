{
 "cells": [
  {
   "cell_type": "code",
   "execution_count": 1,
   "metadata": {},
   "outputs": [],
   "source": [
    "from pathlib import Path\n",
    "import csv "
   ]
  },
  {
   "cell_type": "code",
   "execution_count": 2,
   "metadata": {},
   "outputs": [],
   "source": [
    "# Setting file path\n",
    "csvpath = Path('Resources/budget_data.csv')"
   ]
  },
  {
   "cell_type": "code",
   "execution_count": 3,
   "metadata": {},
   "outputs": [],
   "source": [
    "# Initializing list of record\n",
    "revenues = []\n",
    "dates = []\n",
    "profit_date = []\n",
    "deltas = []"
   ]
  },
  {
   "cell_type": "code",
   "execution_count": 4,
   "metadata": {},
   "outputs": [],
   "source": [
    "#Initializing variables. \n",
    "greatest_increase = 0\n",
    "greatest_decrease = 0\n",
    "max_increase = 0\n",
    "max_decrease = 0\n",
    "change_1 = 0\n",
    "change_2 = 0\n",
    "change_3 = 0\n",
    "total = 0\n",
    "count = 0\n",
    "delta = 0\n",
    "average = 0\n",
    "start = 867884\n",
    "revenue_1 = 0"
   ]
  },
  {
   "cell_type": "code",
   "execution_count": 5,
   "metadata": {},
   "outputs": [
    {
     "name": "stdout",
     "output_type": "stream",
     "text": [
      "Financial Analysis\n",
      "-----------------------\n",
      "Total Months: 86\n",
      "Total: $38382578\n",
      "Average Change: -2315.12\n",
      "Greatest Increase in Profits: Jan-2010 ($1926159.0)\n",
      "Greatest Decrease in Profits: Jan-2010 ($-2196167.0)\n"
     ]
    }
   ],
   "source": [
    "# Opening CSV as an object\n",
    "with open(csvpath, 'r') as csvfile:\n",
    "    \n",
    "    #Passing CSV into csv.reader()\n",
    "    csvreader = csv.reader(csvfile, delimiter=',')\n",
    "    \n",
    "    #Reading header of CSV\n",
    "    header = next(csvreader)\n",
    "    \n",
    "    #Reading every row of data past the header\n",
    "    for row in csvreader:\n",
    "        #Setting revenue variables to their respective values\n",
    "        revenue = int(float(row[1]))\n",
    "        #Appending row date and profit/loss to their respective lists. Appending dates separately, as they are not integers\n",
    "        dates.append(row[0])\n",
    "        revenues.append(revenue)\n",
    "        \n",
    "        delta = float(revenue-revenue_1)\n",
    "        revenue_1=revenue\n",
    "        deltas.append(delta)\n",
    "        \n",
    "        \n",
    "        #Logic to determine greatest_increase/decrease\n",
    "        if greatest_increase == 0:\n",
    "            greatest_increase = delta\n",
    "            greatest_decrease = delta\n",
    "        elif greatest_increase < delta:\n",
    "            greatest_increase = delta\n",
    "            profit_date = dates[0]\n",
    "        elif greatest_decrease > delta:\n",
    "            greatest_decrease = delta\n",
    "            profit_date = dates[0]\n",
    "            \n",
    " \n",
    "    for month in revenues:\n",
    "        #Summing up total profits/loses\n",
    "        total += month\n",
    "        #Summing up total number of days\n",
    "        count += 1\n",
    "        \n",
    "    \n",
    "    average = round(sum(deltas[1:])/len(deltas[1:]),2)\n",
    "        \n",
    "print(\"Financial Analysis\")\n",
    "print(\"-----------------------\")\n",
    "print(f\"Total Months: {count}\")\n",
    "print(f\"Total: ${total}\")\n",
    "print(f\"Average Change: {average}\")\n",
    "print(f\"Greatest Increase in Profits: {profit_date} (${greatest_increase})\")\n",
    "print(f\"Greatest Decrease in Profits: {profit_date} (${greatest_decrease})\")"
   ]
  },
  {
   "cell_type": "code",
   "execution_count": null,
   "metadata": {},
   "outputs": [],
   "source": []
  },
  {
   "cell_type": "code",
   "execution_count": null,
   "metadata": {},
   "outputs": [],
   "source": []
  }
 ],
 "metadata": {
  "kernelspec": {
   "display_name": "Python 3",
   "language": "python",
   "name": "python3"
  },
  "language_info": {
   "codemirror_mode": {
    "name": "ipython",
    "version": 3
   },
   "file_extension": ".py",
   "mimetype": "text/x-python",
   "name": "python",
   "nbconvert_exporter": "python",
   "pygments_lexer": "ipython3",
   "version": "3.7.9"
  }
 },
 "nbformat": 4,
 "nbformat_minor": 4
}
